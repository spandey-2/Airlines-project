{
  "cells": [
    {
      "cell_type": "code",
      "source": [
        "!pip install --upgrade scikit-learn xgboost"
      ],
      "metadata": {
        "colab": {
          "base_uri": "https://localhost:8080/"
        },
        "id": "ohmfCUYDB-tl",
        "outputId": "23faccbd-7b48-4e19-97ed-4b82e8518faf"
      },
      "execution_count": 20,
      "outputs": [
        {
          "output_type": "stream",
          "name": "stdout",
          "text": [
            "Requirement already satisfied: scikit-learn in /usr/local/lib/python3.11/dist-packages (1.6.1)\n",
            "Requirement already satisfied: xgboost in /usr/local/lib/python3.11/dist-packages (2.1.3)\n",
            "Collecting xgboost\n",
            "  Downloading xgboost-2.1.4-py3-none-manylinux_2_28_x86_64.whl.metadata (2.1 kB)\n",
            "Requirement already satisfied: numpy>=1.19.5 in /usr/local/lib/python3.11/dist-packages (from scikit-learn) (1.26.4)\n",
            "Requirement already satisfied: scipy>=1.6.0 in /usr/local/lib/python3.11/dist-packages (from scikit-learn) (1.13.1)\n",
            "Requirement already satisfied: joblib>=1.2.0 in /usr/local/lib/python3.11/dist-packages (from scikit-learn) (1.4.2)\n",
            "Requirement already satisfied: threadpoolctl>=3.1.0 in /usr/local/lib/python3.11/dist-packages (from scikit-learn) (3.5.0)\n",
            "Requirement already satisfied: nvidia-nccl-cu12 in /usr/local/lib/python3.11/dist-packages (from xgboost) (2.21.5)\n",
            "Downloading xgboost-2.1.4-py3-none-manylinux_2_28_x86_64.whl (223.6 MB)\n",
            "\u001b[2K   \u001b[90m━━━━━━━━━━━━━━━━━━━━━━━━━━━━━━━━━━━━━━━━\u001b[0m \u001b[32m223.6/223.6 MB\u001b[0m \u001b[31m6.6 MB/s\u001b[0m eta \u001b[36m0:00:00\u001b[0m\n",
            "\u001b[?25hInstalling collected packages: xgboost\n",
            "  Attempting uninstall: xgboost\n",
            "    Found existing installation: xgboost 2.1.3\n",
            "    Uninstalling xgboost-2.1.3:\n",
            "      Successfully uninstalled xgboost-2.1.3\n",
            "Successfully installed xgboost-2.1.4\n"
          ]
        }
      ]
    },
    {
      "cell_type": "code",
      "source": [
        "# prompt: mount google drive\n",
        "\n",
        "from google.colab import drive\n",
        "drive.mount('/content/drive')"
      ],
      "metadata": {
        "colab": {
          "base_uri": "https://localhost:8080/"
        },
        "id": "hBocV10IAfj-",
        "outputId": "eff8df0a-70ea-4110-ef98-9c6d38a0b4b6"
      },
      "execution_count": 5,
      "outputs": [
        {
          "output_type": "stream",
          "name": "stdout",
          "text": [
            "Mounted at /content/drive\n"
          ]
        }
      ]
    },
    {
      "cell_type": "code",
      "execution_count": null,
      "metadata": {
        "id": "YO2aYDwL8MaB",
        "outputId": "de0f4ad8-c0df-443f-c3b1-dca2843e4999"
      },
      "outputs": [
        {
          "name": "stdout",
          "output_type": "stream",
          "text": [
            "Requirement already satisfied: hyperopt in c:\\users\\liu nelson\\appdata\\roaming\\python\\python39\\site-packages (0.2.7)\n",
            "Requirement already satisfied: networkx>=2.2 in c:\\programdata\\anaconda3\\lib\\site-packages (from hyperopt) (2.8.4)\n",
            "Requirement already satisfied: cloudpickle in c:\\programdata\\anaconda3\\lib\\site-packages (from hyperopt) (2.0.0)\n",
            "Requirement already satisfied: six in c:\\programdata\\anaconda3\\lib\\site-packages (from hyperopt) (1.16.0)\n",
            "Requirement already satisfied: py4j in c:\\users\\liu nelson\\appdata\\roaming\\python\\python39\\site-packages (from hyperopt) (0.10.9.7)\n",
            "Requirement already satisfied: tqdm in c:\\programdata\\anaconda3\\lib\\site-packages (from hyperopt) (4.64.1)\n",
            "Requirement already satisfied: numpy in c:\\users\\liu nelson\\appdata\\roaming\\python\\python39\\site-packages (from hyperopt) (1.23.5)\n",
            "Requirement already satisfied: scipy in c:\\programdata\\anaconda3\\lib\\site-packages (from hyperopt) (1.9.1)\n",
            "Requirement already satisfied: future in c:\\programdata\\anaconda3\\lib\\site-packages (from hyperopt) (0.18.2)\n",
            "Requirement already satisfied: colorama in c:\\programdata\\anaconda3\\lib\\site-packages (from tqdm->hyperopt) (0.4.5)\n"
          ]
        }
      ],
      "source": [
        "!pip install hyperopt"
      ]
    },
    {
      "cell_type": "code",
      "source": [
        "import numpy as np\n",
        "from hyperopt import fmin, tpe, hp, STATUS_OK, Trials\n",
        "import xgboost as xgb\n",
        "from sklearn.model_selection import cross_val_score\n",
        "from sklearn.metrics import mean_squared_error\n",
        "import pandas as pd\n",
        "import numpy as np\n",
        "from hyperopt import fmin, tpe, hp, STATUS_OK, Trials\n",
        "import xgboost as xgb\n",
        "from sklearn.metrics import mean_squared_error\n",
        "from sklearn.model_selection import train_test_split"
      ],
      "metadata": {
        "id": "e33yE3xFAZ3Y"
      },
      "execution_count": 9,
      "outputs": []
    },
    {
      "cell_type": "code",
      "source": [
        "# fmin (Function Minimize):\n",
        "\n",
        "\n",
        "# This is the main optimization function\n",
        "# Purpose: Finds the set of parameters that minimize your objective function\n",
        "\n",
        "# tpe (Tree of Parzen Estimators):\n",
        "\n",
        "\n",
        "# An optimization algorithm that guides the search for best parameters\n",
        "# Works by:\n",
        "\n",
        "# Building probability models of good and bad parameter values\n",
        "# Using these models to choose new parameters to evaluate\n",
        "\n",
        "\n",
        "# hp (Hyperparameter):\n",
        "\n",
        "\n",
        "# Provides methods to define the search space for parameters\n",
        "\n",
        "\n",
        "# STATUS_OK:\n",
        "\n",
        "\n",
        "# A constant used to indicate successful evaluation\n",
        "# Used in objective function return value\n",
        "\n",
        "\n",
        "# Trials:\n",
        "\n",
        "\n",
        "# Object that stores the history of all evaluations\n",
        "\n",
        "\n",
        "# You define the search space (hp)\n",
        "# Specify how to evaluate parameters (objective function)\n",
        "# Let TPE guide the search (tpe)\n",
        "# Track all attempts (Trials)\n",
        "# Find the best parameters (fmin)"
      ],
      "metadata": {
        "id": "rDavLXPRLMmr"
      },
      "execution_count": 15,
      "outputs": []
    },
    {
      "cell_type": "code",
      "source": [
        "df = pd.read_csv('/content/drive/MyDrive/Indigo Training - Feb 2025/Indigo Training - 2025/To Be Shared with Indigo team/Machine Learning/Exercises for Indigo/Arrival Delay Prediction/Flights_Delay_Reg.csv')"
      ],
      "metadata": {
        "id": "CKI5dYkcAbV6"
      },
      "execution_count": 6,
      "outputs": []
    },
    {
      "cell_type": "code",
      "source": [
        "df.head(3)"
      ],
      "metadata": {
        "colab": {
          "base_uri": "https://localhost:8080/",
          "height": 181
        },
        "id": "l2ZEqghDBkB_",
        "outputId": "820b8072-1fc2-4ccb-c936-23f49545a5a7"
      },
      "execution_count": 7,
      "outputs": [
        {
          "output_type": "execute_result",
          "data": {
            "text/plain": [
              "   Unnamed: 0  AIRLINE  ORIGIN_AIRPORT  DESTINATION_AIRPORT  DISTANCE  Day  \\\n",
              "0           0        0              17                  275      1448    4   \n",
              "1           1        1             175                  233      2330    4   \n",
              "2           2       11             276                   66      2296    4   \n",
              "\n",
              "   DEPARTURE_DELAY  ARRIVAL_DELAY  SCHEDULED_TIME  ELAPSED_TIME  AIR_TIME  \\\n",
              "0            -11.0          -22.0           205.0         194.0     169.0   \n",
              "1             -8.0           -9.0           280.0         279.0     263.0   \n",
              "2             -2.0            5.0           286.0         293.0     266.0   \n",
              "\n",
              "   TAXI_IN  TAXI_OUT  DIVERTED  \n",
              "0      4.0      21.0         0  \n",
              "1      4.0      12.0         0  \n",
              "2     11.0      16.0         0  "
            ],
            "text/html": [
              "\n",
              "  <div id=\"df-beda427f-3164-49c6-8cde-4a608b3710e1\" class=\"colab-df-container\">\n",
              "    <div>\n",
              "<style scoped>\n",
              "    .dataframe tbody tr th:only-of-type {\n",
              "        vertical-align: middle;\n",
              "    }\n",
              "\n",
              "    .dataframe tbody tr th {\n",
              "        vertical-align: top;\n",
              "    }\n",
              "\n",
              "    .dataframe thead th {\n",
              "        text-align: right;\n",
              "    }\n",
              "</style>\n",
              "<table border=\"1\" class=\"dataframe\">\n",
              "  <thead>\n",
              "    <tr style=\"text-align: right;\">\n",
              "      <th></th>\n",
              "      <th>Unnamed: 0</th>\n",
              "      <th>AIRLINE</th>\n",
              "      <th>ORIGIN_AIRPORT</th>\n",
              "      <th>DESTINATION_AIRPORT</th>\n",
              "      <th>DISTANCE</th>\n",
              "      <th>Day</th>\n",
              "      <th>DEPARTURE_DELAY</th>\n",
              "      <th>ARRIVAL_DELAY</th>\n",
              "      <th>SCHEDULED_TIME</th>\n",
              "      <th>ELAPSED_TIME</th>\n",
              "      <th>AIR_TIME</th>\n",
              "      <th>TAXI_IN</th>\n",
              "      <th>TAXI_OUT</th>\n",
              "      <th>DIVERTED</th>\n",
              "    </tr>\n",
              "  </thead>\n",
              "  <tbody>\n",
              "    <tr>\n",
              "      <th>0</th>\n",
              "      <td>0</td>\n",
              "      <td>0</td>\n",
              "      <td>17</td>\n",
              "      <td>275</td>\n",
              "      <td>1448</td>\n",
              "      <td>4</td>\n",
              "      <td>-11.0</td>\n",
              "      <td>-22.0</td>\n",
              "      <td>205.0</td>\n",
              "      <td>194.0</td>\n",
              "      <td>169.0</td>\n",
              "      <td>4.0</td>\n",
              "      <td>21.0</td>\n",
              "      <td>0</td>\n",
              "    </tr>\n",
              "    <tr>\n",
              "      <th>1</th>\n",
              "      <td>1</td>\n",
              "      <td>1</td>\n",
              "      <td>175</td>\n",
              "      <td>233</td>\n",
              "      <td>2330</td>\n",
              "      <td>4</td>\n",
              "      <td>-8.0</td>\n",
              "      <td>-9.0</td>\n",
              "      <td>280.0</td>\n",
              "      <td>279.0</td>\n",
              "      <td>263.0</td>\n",
              "      <td>4.0</td>\n",
              "      <td>12.0</td>\n",
              "      <td>0</td>\n",
              "    </tr>\n",
              "    <tr>\n",
              "      <th>2</th>\n",
              "      <td>2</td>\n",
              "      <td>11</td>\n",
              "      <td>276</td>\n",
              "      <td>66</td>\n",
              "      <td>2296</td>\n",
              "      <td>4</td>\n",
              "      <td>-2.0</td>\n",
              "      <td>5.0</td>\n",
              "      <td>286.0</td>\n",
              "      <td>293.0</td>\n",
              "      <td>266.0</td>\n",
              "      <td>11.0</td>\n",
              "      <td>16.0</td>\n",
              "      <td>0</td>\n",
              "    </tr>\n",
              "  </tbody>\n",
              "</table>\n",
              "</div>\n",
              "    <div class=\"colab-df-buttons\">\n",
              "\n",
              "  <div class=\"colab-df-container\">\n",
              "    <button class=\"colab-df-convert\" onclick=\"convertToInteractive('df-beda427f-3164-49c6-8cde-4a608b3710e1')\"\n",
              "            title=\"Convert this dataframe to an interactive table.\"\n",
              "            style=\"display:none;\">\n",
              "\n",
              "  <svg xmlns=\"http://www.w3.org/2000/svg\" height=\"24px\" viewBox=\"0 -960 960 960\">\n",
              "    <path d=\"M120-120v-720h720v720H120Zm60-500h600v-160H180v160Zm220 220h160v-160H400v160Zm0 220h160v-160H400v160ZM180-400h160v-160H180v160Zm440 0h160v-160H620v160ZM180-180h160v-160H180v160Zm440 0h160v-160H620v160Z\"/>\n",
              "  </svg>\n",
              "    </button>\n",
              "\n",
              "  <style>\n",
              "    .colab-df-container {\n",
              "      display:flex;\n",
              "      gap: 12px;\n",
              "    }\n",
              "\n",
              "    .colab-df-convert {\n",
              "      background-color: #E8F0FE;\n",
              "      border: none;\n",
              "      border-radius: 50%;\n",
              "      cursor: pointer;\n",
              "      display: none;\n",
              "      fill: #1967D2;\n",
              "      height: 32px;\n",
              "      padding: 0 0 0 0;\n",
              "      width: 32px;\n",
              "    }\n",
              "\n",
              "    .colab-df-convert:hover {\n",
              "      background-color: #E2EBFA;\n",
              "      box-shadow: 0px 1px 2px rgba(60, 64, 67, 0.3), 0px 1px 3px 1px rgba(60, 64, 67, 0.15);\n",
              "      fill: #174EA6;\n",
              "    }\n",
              "\n",
              "    .colab-df-buttons div {\n",
              "      margin-bottom: 4px;\n",
              "    }\n",
              "\n",
              "    [theme=dark] .colab-df-convert {\n",
              "      background-color: #3B4455;\n",
              "      fill: #D2E3FC;\n",
              "    }\n",
              "\n",
              "    [theme=dark] .colab-df-convert:hover {\n",
              "      background-color: #434B5C;\n",
              "      box-shadow: 0px 1px 3px 1px rgba(0, 0, 0, 0.15);\n",
              "      filter: drop-shadow(0px 1px 2px rgba(0, 0, 0, 0.3));\n",
              "      fill: #FFFFFF;\n",
              "    }\n",
              "  </style>\n",
              "\n",
              "    <script>\n",
              "      const buttonEl =\n",
              "        document.querySelector('#df-beda427f-3164-49c6-8cde-4a608b3710e1 button.colab-df-convert');\n",
              "      buttonEl.style.display =\n",
              "        google.colab.kernel.accessAllowed ? 'block' : 'none';\n",
              "\n",
              "      async function convertToInteractive(key) {\n",
              "        const element = document.querySelector('#df-beda427f-3164-49c6-8cde-4a608b3710e1');\n",
              "        const dataTable =\n",
              "          await google.colab.kernel.invokeFunction('convertToInteractive',\n",
              "                                                    [key], {});\n",
              "        if (!dataTable) return;\n",
              "\n",
              "        const docLinkHtml = 'Like what you see? Visit the ' +\n",
              "          '<a target=\"_blank\" href=https://colab.research.google.com/notebooks/data_table.ipynb>data table notebook</a>'\n",
              "          + ' to learn more about interactive tables.';\n",
              "        element.innerHTML = '';\n",
              "        dataTable['output_type'] = 'display_data';\n",
              "        await google.colab.output.renderOutput(dataTable, element);\n",
              "        const docLink = document.createElement('div');\n",
              "        docLink.innerHTML = docLinkHtml;\n",
              "        element.appendChild(docLink);\n",
              "      }\n",
              "    </script>\n",
              "  </div>\n",
              "\n",
              "\n",
              "<div id=\"df-684313f8-f1fc-4f79-9cc6-69ed22261556\">\n",
              "  <button class=\"colab-df-quickchart\" onclick=\"quickchart('df-684313f8-f1fc-4f79-9cc6-69ed22261556')\"\n",
              "            title=\"Suggest charts\"\n",
              "            style=\"display:none;\">\n",
              "\n",
              "<svg xmlns=\"http://www.w3.org/2000/svg\" height=\"24px\"viewBox=\"0 0 24 24\"\n",
              "     width=\"24px\">\n",
              "    <g>\n",
              "        <path d=\"M19 3H5c-1.1 0-2 .9-2 2v14c0 1.1.9 2 2 2h14c1.1 0 2-.9 2-2V5c0-1.1-.9-2-2-2zM9 17H7v-7h2v7zm4 0h-2V7h2v10zm4 0h-2v-4h2v4z\"/>\n",
              "    </g>\n",
              "</svg>\n",
              "  </button>\n",
              "\n",
              "<style>\n",
              "  .colab-df-quickchart {\n",
              "      --bg-color: #E8F0FE;\n",
              "      --fill-color: #1967D2;\n",
              "      --hover-bg-color: #E2EBFA;\n",
              "      --hover-fill-color: #174EA6;\n",
              "      --disabled-fill-color: #AAA;\n",
              "      --disabled-bg-color: #DDD;\n",
              "  }\n",
              "\n",
              "  [theme=dark] .colab-df-quickchart {\n",
              "      --bg-color: #3B4455;\n",
              "      --fill-color: #D2E3FC;\n",
              "      --hover-bg-color: #434B5C;\n",
              "      --hover-fill-color: #FFFFFF;\n",
              "      --disabled-bg-color: #3B4455;\n",
              "      --disabled-fill-color: #666;\n",
              "  }\n",
              "\n",
              "  .colab-df-quickchart {\n",
              "    background-color: var(--bg-color);\n",
              "    border: none;\n",
              "    border-radius: 50%;\n",
              "    cursor: pointer;\n",
              "    display: none;\n",
              "    fill: var(--fill-color);\n",
              "    height: 32px;\n",
              "    padding: 0;\n",
              "    width: 32px;\n",
              "  }\n",
              "\n",
              "  .colab-df-quickchart:hover {\n",
              "    background-color: var(--hover-bg-color);\n",
              "    box-shadow: 0 1px 2px rgba(60, 64, 67, 0.3), 0 1px 3px 1px rgba(60, 64, 67, 0.15);\n",
              "    fill: var(--button-hover-fill-color);\n",
              "  }\n",
              "\n",
              "  .colab-df-quickchart-complete:disabled,\n",
              "  .colab-df-quickchart-complete:disabled:hover {\n",
              "    background-color: var(--disabled-bg-color);\n",
              "    fill: var(--disabled-fill-color);\n",
              "    box-shadow: none;\n",
              "  }\n",
              "\n",
              "  .colab-df-spinner {\n",
              "    border: 2px solid var(--fill-color);\n",
              "    border-color: transparent;\n",
              "    border-bottom-color: var(--fill-color);\n",
              "    animation:\n",
              "      spin 1s steps(1) infinite;\n",
              "  }\n",
              "\n",
              "  @keyframes spin {\n",
              "    0% {\n",
              "      border-color: transparent;\n",
              "      border-bottom-color: var(--fill-color);\n",
              "      border-left-color: var(--fill-color);\n",
              "    }\n",
              "    20% {\n",
              "      border-color: transparent;\n",
              "      border-left-color: var(--fill-color);\n",
              "      border-top-color: var(--fill-color);\n",
              "    }\n",
              "    30% {\n",
              "      border-color: transparent;\n",
              "      border-left-color: var(--fill-color);\n",
              "      border-top-color: var(--fill-color);\n",
              "      border-right-color: var(--fill-color);\n",
              "    }\n",
              "    40% {\n",
              "      border-color: transparent;\n",
              "      border-right-color: var(--fill-color);\n",
              "      border-top-color: var(--fill-color);\n",
              "    }\n",
              "    60% {\n",
              "      border-color: transparent;\n",
              "      border-right-color: var(--fill-color);\n",
              "    }\n",
              "    80% {\n",
              "      border-color: transparent;\n",
              "      border-right-color: var(--fill-color);\n",
              "      border-bottom-color: var(--fill-color);\n",
              "    }\n",
              "    90% {\n",
              "      border-color: transparent;\n",
              "      border-bottom-color: var(--fill-color);\n",
              "    }\n",
              "  }\n",
              "</style>\n",
              "\n",
              "  <script>\n",
              "    async function quickchart(key) {\n",
              "      const quickchartButtonEl =\n",
              "        document.querySelector('#' + key + ' button');\n",
              "      quickchartButtonEl.disabled = true;  // To prevent multiple clicks.\n",
              "      quickchartButtonEl.classList.add('colab-df-spinner');\n",
              "      try {\n",
              "        const charts = await google.colab.kernel.invokeFunction(\n",
              "            'suggestCharts', [key], {});\n",
              "      } catch (error) {\n",
              "        console.error('Error during call to suggestCharts:', error);\n",
              "      }\n",
              "      quickchartButtonEl.classList.remove('colab-df-spinner');\n",
              "      quickchartButtonEl.classList.add('colab-df-quickchart-complete');\n",
              "    }\n",
              "    (() => {\n",
              "      let quickchartButtonEl =\n",
              "        document.querySelector('#df-684313f8-f1fc-4f79-9cc6-69ed22261556 button');\n",
              "      quickchartButtonEl.style.display =\n",
              "        google.colab.kernel.accessAllowed ? 'block' : 'none';\n",
              "    })();\n",
              "  </script>\n",
              "</div>\n",
              "\n",
              "    </div>\n",
              "  </div>\n"
            ],
            "application/vnd.google.colaboratory.intrinsic+json": {
              "type": "dataframe",
              "variable_name": "df"
            }
          },
          "metadata": {},
          "execution_count": 7
        }
      ]
    },
    {
      "cell_type": "code",
      "source": [
        "df = df.sample(frac=.30)"
      ],
      "metadata": {
        "id": "98t6i7HbHtAx"
      },
      "execution_count": 12,
      "outputs": []
    },
    {
      "cell_type": "code",
      "source": [
        "X = df.drop(columns = 'ARRIVAL_DELAY')\n",
        "y = df.ARRIVAL_DELAY\n",
        "\n",
        "X_train, X_test, y_train, y_test = train_test_split(X, y, test_size=0.33, random_state=42)"
      ],
      "metadata": {
        "id": "Wrv-mUBJAPPN"
      },
      "execution_count": 13,
      "outputs": []
    },
    {
      "cell_type": "code",
      "source": [
        "\n",
        "def objective(params):\n",
        "    # Convert data to DMatrix format\n",
        "    dtrain = xgb.DMatrix(X_train, label=y_train)\n",
        "\n",
        "    # Set up XGBoost parameters\n",
        "    xgb_params = {\n",
        "        'max_depth': int(params['max_depth']),\n",
        "        'eta': float(params['learning_rate']),  # eta is learning_rate in XGBoost params\n",
        "        'min_child_weight': int(params['min_child_weight']),\n",
        "        'subsample': float(params['subsample']),\n",
        "        'colsample_bytree': float(params['colsample_bytree']),\n",
        "        'gamma': float(params['gamma']),\n",
        "        'objective': 'reg:squarederror',\n",
        "        'eval_metric': 'rmse'\n",
        "    }\n",
        "\n",
        "    # Perform cross-validation\n",
        "    cv_results = xgb.cv(\n",
        "        xgb_params,\n",
        "        dtrain,\n",
        "        num_boost_round=int(params['n_estimators']),\n",
        "        nfold=5,\n",
        "        early_stopping_rounds=50,\n",
        "        verbose_eval=False\n",
        "    )\n",
        "\n",
        "    # Get the best score\n",
        "    best_score = cv_results['test-rmse-mean'].min()\n",
        "\n",
        "    return {'loss': best_score, 'status': STATUS_OK}\n",
        "\n",
        "# Define the search space\n",
        "space = {\n",
        "    'max_depth': hp.choice('max_depth', range(9, 11)),\n",
        "    'learning_rate': hp.loguniform('learning_rate', np.log(0.01), np.log(0.3)),\n",
        "    'n_estimators': hp.choice('n_estimators', range(10, 15, 1)),\n",
        "    'min_child_weight': hp.choice('min_child_weight', range(1, 3)),\n",
        "    'subsample': hp.uniform('subsample', 0.85, 1.0),\n",
        "    'colsample_bytree': hp.uniform('colsample_bytree', 0.85, 1.0),\n",
        "    'gamma': hp.uniform('gamma', 0, 0.5)\n",
        "}\n",
        "\n",
        "# Run optimization\n",
        "trials = Trials()\n",
        "best = fmin(\n",
        "    fn=objective,\n",
        "    space=space,\n",
        "    algo=tpe.suggest,\n",
        "    max_evals=100,\n",
        "    trials=trials\n",
        ")\n",
        "\n",
        "# Convert best parameters\n",
        "best_params = {\n",
        "    'max_depth': int(best['max_depth']),\n",
        "    'learning_rate': float(best['learning_rate']),\n",
        "    'n_estimators': int(best['n_estimators']),\n",
        "    'min_child_weight': int(best['min_child_weight']),\n",
        "    'subsample': float(best['subsample']),\n",
        "    'colsample_bytree': float(best['colsample_bytree']),\n",
        "    'gamma': float(best['gamma'])\n",
        "}\n",
        "\n",
        "# Train final model\n",
        "final_model = xgb.XGBRegressor(**best_params, random_state=42)\n",
        "final_model.fit(X_train, y_train)\n",
        "\n",
        "# Evaluate\n",
        "y_pred = final_model.predict(X_test)\n",
        "test_rmse = np.sqrt(mean_squared_error(y_test, y_pred))\n",
        "print(f\"Best parameters: {best_params}\")\n",
        "print(f\"Test RMSE: {test_rmse}\")"
      ],
      "metadata": {
        "colab": {
          "base_uri": "https://localhost:8080/"
        },
        "id": "jwfW7qDvClj2",
        "outputId": "547c4e65-8764-4388-d9d2-8da6c30ab07f"
      },
      "execution_count": 14,
      "outputs": [
        {
          "output_type": "stream",
          "name": "stdout",
          "text": [
            "100%|██████████| 100/100 [12:16<00:00,  7.37s/trial, best loss: 11.340236172866323]\n",
            "Best parameters: {'max_depth': 0, 'learning_rate': 0.29987777148947986, 'n_estimators': 4, 'min_child_weight': 1, 'subsample': 0.9994498008505205, 'colsample_bytree': 0.8784206704721849, 'gamma': 0.38554113069417534}\n",
            "Test RMSE: 21.078669978269552\n"
          ]
        }
      ]
    },
    {
      "cell_type": "markdown",
      "metadata": {
        "id": "g9Grl1908MaF"
      },
      "source": [
        "<a name=\"section-4\"></a>\n",
        "# 2 Hyperparameter tuning on Big Datasets\n",
        "    \n",
        "Tuning hyperparameters can be computationally exhaustive when the data is large.\n",
        "    \n",
        "    \n",
        "Since one of the most critical aspects in computation is the size of dataset, among others, we will perform an experiment to study the effect of using different fractions of a dataset in the hyperparameter optimization phase and understand the trade off between efficiency and accuracy.\n",
        "\n",
        "An ideal scenario would be to reduce the training data size without losing too much information."
      ]
    },
    {
      "cell_type": "code",
      "execution_count": 20,
      "metadata": {
        "ExecuteTime": {
          "end_time": "2020-05-21T21:20:28.998518Z",
          "start_time": "2020-05-21T21:20:28.989518Z"
        },
        "id": "fBp8zN6r8MaF"
      },
      "outputs": [],
      "source": [
        "# Import essential libraries\n",
        "# Importing essential libraries\n",
        "from sklearn.model_selection import (\n",
        "    train_test_split,\n",
        "    RandomizedSearchCV,\n",
        "    StratifiedKFold,\n",
        ")\n",
        "from sklearn.metrics import (\n",
        "    make_scorer,\n",
        "    recall_score,\n",
        "    accuracy_score,\n",
        "    precision_score,\n",
        "    confusion_matrix,\n",
        "    classification_report,\n",
        "    f1_score,\n",
        "    log_loss,\n",
        ")\n",
        "from sklearn.ensemble import RandomForestClassifier\n",
        "from sklearn.datasets import make_classification\n",
        "import time\n",
        "import numpy as np\n",
        "from scipy.stats import randint as sp_randint\n",
        "import plotly.express as px\n",
        "from hyperopt import hp,Trials,tpe, fmin\n",
        "from hyperopt.pyll.stochastic import sample as hp_sample\n",
        "from hyperopt.pyll.base import scope\n",
        "\n",
        "np.random.seed(12345)"
      ]
    },
    {
      "cell_type": "markdown",
      "metadata": {
        "id": "_vx1JRpO8MaF"
      },
      "source": [
        "## Creating a classification dataset"
      ]
    },
    {
      "cell_type": "code",
      "execution_count": 21,
      "metadata": {
        "ExecuteTime": {
          "end_time": "2020-05-22T04:34:13.980221Z",
          "start_time": "2020-05-22T04:34:13.967244Z"
        },
        "colab": {
          "base_uri": "https://localhost:8080/"
        },
        "id": "FFDssu4W8MaF",
        "outputId": "9f0cb6d5-67a6-4039-b39c-18754ddc4617"
      },
      "outputs": [
        {
          "output_type": "stream",
          "name": "stdout",
          "text": [
            "Number of records in the data:1000 and number of columns: 10\n"
          ]
        }
      ],
      "source": [
        "data = make_classification(\n",
        "    n_samples=1000,\n",
        "    n_features=10,\n",
        "    n_informative=5,\n",
        "    n_redundant=0,\n",
        "    n_classes=2,\n",
        "    n_clusters_per_class=2,\n",
        "    class_sep=0.7,\n",
        "    weights=[0.7, 0.3],\n",
        "    random_state=12345,\n",
        ")\n",
        "\n",
        "print(f'Number of records in the data:{data[0].shape[0]} and number of columns: {data[0].shape[1]}')\n"
      ]
    },
    {
      "cell_type": "markdown",
      "metadata": {
        "id": "o6A6FbgO8MaF"
      },
      "source": [
        "We will now break the dataset into train & test and will use test to track the final model performance.\n",
        "Let's keep 30% of the dataset as test"
      ]
    },
    {
      "cell_type": "code",
      "execution_count": 22,
      "metadata": {
        "ExecuteTime": {
          "end_time": "2020-05-22T04:34:15.691189Z",
          "start_time": "2020-05-22T04:34:15.681210Z"
        },
        "colab": {
          "base_uri": "https://localhost:8080/"
        },
        "id": "RlqFYKmn8MaF",
        "outputId": "657327fa-cb04-4d62-bc72-b135982066ca"
      },
      "outputs": [
        {
          "output_type": "stream",
          "name": "stdout",
          "text": [
            "\n",
            "X_train:700 records\n",
            "X_test:300 records\n",
            "\n"
          ]
        }
      ],
      "source": [
        "X_train, X_test, y_train, y_test = train_test_split(\n",
        "    data[0],\n",
        "    data[1],\n",
        "    test_size=0.3,\n",
        "    random_state=12345,\n",
        "    stratify = data[1]\n",
        ")\n",
        "\n",
        "print(f'''\n",
        "X_train:{X_train.shape[0]} records\n",
        "X_test:{X_test.shape[0]} records\n",
        "''')"
      ]
    },
    {
      "cell_type": "markdown",
      "metadata": {
        "id": "_njOLfo-8MaF"
      },
      "source": [
        "Let's wrap what we learned about Hyperopt in a function as we will be running parameter optimization multiple times\n",
        "The function should perform the following:\n",
        "\n",
        "* Take training dataset and parameter space as input\n",
        "* Perform Hyperparameter tuning on the training dataset using K Fold validation\n",
        "* Retrain a model with learned hyperparameters on complete data and calculate the test loss\n",
        "* Return loss on the test dataset, time taken for search"
      ]
    },
    {
      "cell_type": "code",
      "execution_count": 23,
      "metadata": {
        "ExecuteTime": {
          "end_time": "2020-05-22T04:34:18.146304Z",
          "start_time": "2020-05-22T04:34:18.132330Z"
        },
        "id": "rSqFQq7R8MaG"
      },
      "outputs": [],
      "source": [
        "np.random.seed(12345)\n",
        "# Using the same rf_objective function as defined in the Hyperopt example\n",
        "# Stratify folds object\n",
        "stratify_folds = StratifiedKFold(n_splits=3, shuffle=True, random_state=12345)\n",
        "stratify_folds.get_n_splits(X_train, y_train)\n",
        "\n",
        "## Function would take a training data, fit a model using 3 folds and return loss\n",
        "def rf_objective(params):\n",
        "\n",
        "    # Params type and value checks\n",
        "    if type(params['n_estimators']==float):\n",
        "        params['n_estimators'] = int(params['n_estimators'])\n",
        "    if type(params['max_depth']==float):\n",
        "        params['max_depth'] = int(params['n_estimators'])\n",
        "    if params['min_samples_split']==0:\n",
        "        params['min_samples_split'] = 2\n",
        "    if params['max_depth']==0:\n",
        "        params['max_depth'] = None\n",
        "    if params['max_samples']==1.0:\n",
        "        params['max_samples'] = None\n",
        "\n",
        "    # Create RF Classifier\n",
        "    rf_model = RandomForestClassifier(**params)\n",
        "    loss = []\n",
        "\n",
        "    # Fit the model on defined folds\n",
        "    for train_index, test_index in stratify_folds.split(X_frac,y_frac):\n",
        "        rf_model.fit(X_frac[train_index], y_frac[train_index])\n",
        "        val_pred = rf_model.predict_proba(X_frac[test_index])\n",
        "        fold_loss = log_loss(y_true=y_frac[test_index], y_pred=val_pred)\n",
        "        loss.append(fold_loss)\n",
        "\n",
        "    # Return the mean loss\n",
        "    return np.mean(loss)\n",
        "\n",
        "\n",
        "def hyperopt_run(training_data, test_data, param_space, n_evals):\n",
        "    # Perform hyperopt search\n",
        "    start = time.time()\n",
        "    trials = Trials()\n",
        "\n",
        "    best = fmin(\n",
        "        rf_objective,\n",
        "        hyperopt_param_dist,\n",
        "        algo=tpe.suggest,\n",
        "        max_evals=n_evals,\n",
        "        trials=trials,\n",
        "        )\n",
        "\n",
        "    end = time.time()\n",
        "\n",
        "    if type(best['n_estimators']==float):\n",
        "        best['n_estimators'] = int(best['n_estimators'])\n",
        "    if type(best['max_depth']==float):\n",
        "        best['max_depth'] = int(best['n_estimators'])\n",
        "    if best['min_samples_split']==0:\n",
        "        best['min_samples_split'] = 2\n",
        "    if best['max_depth']==0:\n",
        "        best['max_depth'] = None\n",
        "    if best['max_samples']==1.0:\n",
        "        best['max_samples'] = None\n",
        "\n",
        "    # Refit the model on complete training data\n",
        "    rf_best = RandomForestClassifier(**best)\n",
        "    rf_best.fit(X_train, y_train)\n",
        "\n",
        "    # Calculate loss on test dataset\n",
        "    test_pred = rf_best.predict_proba(test_data[0])\n",
        "    test_loss = log_loss(test_data[1], test_pred)\n",
        "    print(f'Best params : {best} and test loss:{test_loss}')\n",
        "\n",
        "    return test_loss, end - start"
      ]
    },
    {
      "cell_type": "code",
      "execution_count": 24,
      "metadata": {
        "ExecuteTime": {
          "end_time": "2020-05-22T04:34:28.993488Z",
          "start_time": "2020-05-22T04:34:28.985490Z"
        },
        "id": "U3IgdUse8MaG"
      },
      "outputs": [],
      "source": [
        "hyperopt_param_dist = {\n",
        "    \"n_estimators\": scope.int(hp.quniform(\"n_estimators\", 8, 512, 16)),  # Ensures integer\n",
        "    \"max_depth\": scope.int(hp.quniform(\"max_depth\", 2, 9, 1)),  # Ensures integer, consider handling `None` separately\n",
        "    \"min_samples_split\": hp.quniform(\"min_samples_split\", 0,0.1,0.01),  # Ensures integer\n",
        "    \"max_samples\": hp.uniform(\"max_samples\", 0.1, 0.9)\n",
        "}"
      ]
    },
    {
      "cell_type": "markdown",
      "metadata": {
        "id": "ojdmKnkl8MaG"
      },
      "source": [
        "In the coming section we will do the following:\n",
        "\n",
        "* Vary the training data fraction from 20% to 100%\n",
        "* Run 100 evals and optimize parameters using Hyperopt\n",
        "* Record and compare test loss & tuning time for each instance"
      ]
    },
    {
      "cell_type": "code",
      "execution_count": 25,
      "metadata": {
        "ExecuteTime": {
          "end_time": "2020-05-22T04:59:42.519411Z",
          "start_time": "2020-05-22T04:34:30.521487Z"
        },
        "scrolled": true,
        "colab": {
          "base_uri": "https://localhost:8080/"
        },
        "id": "x01lTqg-8MaG",
        "outputId": "b5449eef-0cae-4f2a-a972-3c86f3d628c9"
      },
      "outputs": [
        {
          "output_type": "stream",
          "name": "stdout",
          "text": [
            "100%|██████████| 10/10 [00:10<00:00,  1.06s/trial, best loss: 0.40745719112121]\n",
            "Best params : {'max_depth': 128, 'max_samples': 0.8550751216462612, 'min_samples_split': 0.04, 'n_estimators': 128} and test loss:0.4598287778984768\n",
            "100%|██████████| 10/10 [00:12<00:00,  1.22s/trial, best loss: 0.438849336368575]\n",
            "Best params : {'max_depth': 224, 'max_samples': 0.5731337684506291, 'min_samples_split': 0.02, 'n_estimators': 224} and test loss:0.44044082998431233\n",
            "100%|██████████| 10/10 [00:16<00:00,  1.62s/trial, best loss: 0.3405728891475615]\n",
            "Best params : {'max_depth': 464, 'max_samples': 0.8806628818906026, 'min_samples_split': 0.03, 'n_estimators': 464} and test loss:0.44068068604795657\n",
            "100%|██████████| 10/10 [00:09<00:00,  1.05trial/s, best loss: 0.34956639137822365]\n",
            "Best params : {'max_depth': 144, 'max_samples': 0.7628515971384834, 'min_samples_split': 0.03, 'n_estimators': 144} and test loss:0.44391382764381754\n",
            "100%|██████████| 10/10 [00:10<00:00,  1.10s/trial, best loss: 0.2491090391250169]\n",
            "Best params : {'max_depth': 128, 'max_samples': 0.8156487402737423, 'min_samples_split': 2, 'n_estimators': 128} and test loss:0.4147455605253574\n"
          ]
        }
      ],
      "source": [
        "np.random.seed(12345)\n",
        "loss_time_tracker = {\"loss\": [], \"time\": []}\n",
        "\n",
        "# Set the number of evals\n",
        "max_evals = 10  # update this value to 100 (will take some time to complete execution)\n",
        "\n",
        "for frac in [0.2, 0.4, 0.6, 0.8, 1]:\n",
        "    # Take a fraction of dataset\n",
        "    index = np.random.randint(len(X_train), size=int(frac * len(X_train)))\n",
        "    X_frac, y_frac = X_train[index], y_train[index]\n",
        "    loss, elapsed_time = hyperopt_run(\n",
        "        (X_frac, y_frac), (X_test, y_test), hyperopt_param_dist, max_evals\n",
        "    )\n",
        "    loss_time_tracker[\"loss\"].append(loss)\n",
        "    loss_time_tracker[\"time\"].append(elapsed_time)"
      ]
    },
    {
      "cell_type": "code",
      "source": [
        "!pip install plotly\n",
        "import plotly.graph_objects as go\n",
        "import plotly.subplots as py"
      ],
      "metadata": {
        "colab": {
          "base_uri": "https://localhost:8080/"
        },
        "id": "r_scq0GeLtIC",
        "outputId": "218b9855-6825-4c73-e56d-8f8647a318e2"
      },
      "execution_count": 16,
      "outputs": [
        {
          "output_type": "stream",
          "name": "stdout",
          "text": [
            "Requirement already satisfied: plotly in /usr/local/lib/python3.11/dist-packages (5.24.1)\n",
            "Requirement already satisfied: tenacity>=6.2.0 in /usr/local/lib/python3.11/dist-packages (from plotly) (9.0.0)\n",
            "Requirement already satisfied: packaging in /usr/local/lib/python3.11/dist-packages (from plotly) (24.2)\n"
          ]
        }
      ]
    },
    {
      "cell_type": "code",
      "execution_count": 26,
      "metadata": {
        "ExecuteTime": {
          "end_time": "2020-05-22T04:59:56.987556Z",
          "start_time": "2020-05-22T04:59:56.952548Z"
        },
        "colab": {
          "base_uri": "https://localhost:8080/",
          "height": 497
        },
        "id": "UHaVLoCb8MaG",
        "outputId": "efd87829-46d8-4b5e-e7e6-4e0d4b72f66e"
      },
      "outputs": [
        {
          "output_type": "display_data",
          "data": {
            "text/html": [
              "<html>\n",
              "<head><meta charset=\"utf-8\" /></head>\n",
              "<body>\n",
              "    <div>            <script src=\"https://cdnjs.cloudflare.com/ajax/libs/mathjax/2.7.5/MathJax.js?config=TeX-AMS-MML_SVG\"></script><script type=\"text/javascript\">if (window.MathJax && window.MathJax.Hub && window.MathJax.Hub.Config) {window.MathJax.Hub.Config({SVG: {font: \"STIX-Web\"}});}</script>                <script type=\"text/javascript\">window.PlotlyConfig = {MathJaxConfig: 'local'};</script>\n",
              "        <script charset=\"utf-8\" src=\"https://cdn.plot.ly/plotly-2.35.2.min.js\"></script>                <div id=\"ad01acab-7af6-4a23-b58a-b3012cd01731\" class=\"plotly-graph-div\" style=\"height:480px; width:900px;\"></div>            <script type=\"text/javascript\">                                    window.PLOTLYENV=window.PLOTLYENV || {};                                    if (document.getElementById(\"ad01acab-7af6-4a23-b58a-b3012cd01731\")) {                    Plotly.newPlot(                        \"ad01acab-7af6-4a23-b58a-b3012cd01731\",                        [{\"name\":\"Test Loss\",\"orientation\":\"v\",\"x\":[0.2,0.4,0.6,0.8,1],\"y\":[0.4598287778984768,0.44044082998431233,0.44068068604795657,0.44391382764381754,0.4147455605253574],\"type\":\"bar\",\"xaxis\":\"x\",\"yaxis\":\"y\"},{\"name\":\"Computation Time\",\"orientation\":\"v\",\"x\":[0.2,0.4,0.6,0.8,1],\"y\":[10.601722240447998,12.195441961288452,16.180819511413574,9.566195487976074,10.965493440628052],\"type\":\"bar\",\"xaxis\":\"x2\",\"yaxis\":\"y2\"}],                        {\"template\":{\"data\":{\"histogram2dcontour\":[{\"type\":\"histogram2dcontour\",\"colorbar\":{\"outlinewidth\":0,\"ticks\":\"\"},\"colorscale\":[[0.0,\"#0d0887\"],[0.1111111111111111,\"#46039f\"],[0.2222222222222222,\"#7201a8\"],[0.3333333333333333,\"#9c179e\"],[0.4444444444444444,\"#bd3786\"],[0.5555555555555556,\"#d8576b\"],[0.6666666666666666,\"#ed7953\"],[0.7777777777777778,\"#fb9f3a\"],[0.8888888888888888,\"#fdca26\"],[1.0,\"#f0f921\"]]}],\"choropleth\":[{\"type\":\"choropleth\",\"colorbar\":{\"outlinewidth\":0,\"ticks\":\"\"}}],\"histogram2d\":[{\"type\":\"histogram2d\",\"colorbar\":{\"outlinewidth\":0,\"ticks\":\"\"},\"colorscale\":[[0.0,\"#0d0887\"],[0.1111111111111111,\"#46039f\"],[0.2222222222222222,\"#7201a8\"],[0.3333333333333333,\"#9c179e\"],[0.4444444444444444,\"#bd3786\"],[0.5555555555555556,\"#d8576b\"],[0.6666666666666666,\"#ed7953\"],[0.7777777777777778,\"#fb9f3a\"],[0.8888888888888888,\"#fdca26\"],[1.0,\"#f0f921\"]]}],\"heatmap\":[{\"type\":\"heatmap\",\"colorbar\":{\"outlinewidth\":0,\"ticks\":\"\"},\"colorscale\":[[0.0,\"#0d0887\"],[0.1111111111111111,\"#46039f\"],[0.2222222222222222,\"#7201a8\"],[0.3333333333333333,\"#9c179e\"],[0.4444444444444444,\"#bd3786\"],[0.5555555555555556,\"#d8576b\"],[0.6666666666666666,\"#ed7953\"],[0.7777777777777778,\"#fb9f3a\"],[0.8888888888888888,\"#fdca26\"],[1.0,\"#f0f921\"]]}],\"heatmapgl\":[{\"type\":\"heatmapgl\",\"colorbar\":{\"outlinewidth\":0,\"ticks\":\"\"},\"colorscale\":[[0.0,\"#0d0887\"],[0.1111111111111111,\"#46039f\"],[0.2222222222222222,\"#7201a8\"],[0.3333333333333333,\"#9c179e\"],[0.4444444444444444,\"#bd3786\"],[0.5555555555555556,\"#d8576b\"],[0.6666666666666666,\"#ed7953\"],[0.7777777777777778,\"#fb9f3a\"],[0.8888888888888888,\"#fdca26\"],[1.0,\"#f0f921\"]]}],\"contourcarpet\":[{\"type\":\"contourcarpet\",\"colorbar\":{\"outlinewidth\":0,\"ticks\":\"\"}}],\"contour\":[{\"type\":\"contour\",\"colorbar\":{\"outlinewidth\":0,\"ticks\":\"\"},\"colorscale\":[[0.0,\"#0d0887\"],[0.1111111111111111,\"#46039f\"],[0.2222222222222222,\"#7201a8\"],[0.3333333333333333,\"#9c179e\"],[0.4444444444444444,\"#bd3786\"],[0.5555555555555556,\"#d8576b\"],[0.6666666666666666,\"#ed7953\"],[0.7777777777777778,\"#fb9f3a\"],[0.8888888888888888,\"#fdca26\"],[1.0,\"#f0f921\"]]}],\"surface\":[{\"type\":\"surface\",\"colorbar\":{\"outlinewidth\":0,\"ticks\":\"\"},\"colorscale\":[[0.0,\"#0d0887\"],[0.1111111111111111,\"#46039f\"],[0.2222222222222222,\"#7201a8\"],[0.3333333333333333,\"#9c179e\"],[0.4444444444444444,\"#bd3786\"],[0.5555555555555556,\"#d8576b\"],[0.6666666666666666,\"#ed7953\"],[0.7777777777777778,\"#fb9f3a\"],[0.8888888888888888,\"#fdca26\"],[1.0,\"#f0f921\"]]}],\"mesh3d\":[{\"type\":\"mesh3d\",\"colorbar\":{\"outlinewidth\":0,\"ticks\":\"\"}}],\"scatter\":[{\"fillpattern\":{\"fillmode\":\"overlay\",\"size\":10,\"solidity\":0.2},\"type\":\"scatter\"}],\"parcoords\":[{\"type\":\"parcoords\",\"line\":{\"colorbar\":{\"outlinewidth\":0,\"ticks\":\"\"}}}],\"scatterpolargl\":[{\"type\":\"scatterpolargl\",\"marker\":{\"colorbar\":{\"outlinewidth\":0,\"ticks\":\"\"}}}],\"bar\":[{\"error_x\":{\"color\":\"#2a3f5f\"},\"error_y\":{\"color\":\"#2a3f5f\"},\"marker\":{\"line\":{\"color\":\"#E5ECF6\",\"width\":0.5},\"pattern\":{\"fillmode\":\"overlay\",\"size\":10,\"solidity\":0.2}},\"type\":\"bar\"}],\"scattergeo\":[{\"type\":\"scattergeo\",\"marker\":{\"colorbar\":{\"outlinewidth\":0,\"ticks\":\"\"}}}],\"scatterpolar\":[{\"type\":\"scatterpolar\",\"marker\":{\"colorbar\":{\"outlinewidth\":0,\"ticks\":\"\"}}}],\"histogram\":[{\"marker\":{\"pattern\":{\"fillmode\":\"overlay\",\"size\":10,\"solidity\":0.2}},\"type\":\"histogram\"}],\"scattergl\":[{\"type\":\"scattergl\",\"marker\":{\"colorbar\":{\"outlinewidth\":0,\"ticks\":\"\"}}}],\"scatter3d\":[{\"type\":\"scatter3d\",\"line\":{\"colorbar\":{\"outlinewidth\":0,\"ticks\":\"\"}},\"marker\":{\"colorbar\":{\"outlinewidth\":0,\"ticks\":\"\"}}}],\"scattermapbox\":[{\"type\":\"scattermapbox\",\"marker\":{\"colorbar\":{\"outlinewidth\":0,\"ticks\":\"\"}}}],\"scatterternary\":[{\"type\":\"scatterternary\",\"marker\":{\"colorbar\":{\"outlinewidth\":0,\"ticks\":\"\"}}}],\"scattercarpet\":[{\"type\":\"scattercarpet\",\"marker\":{\"colorbar\":{\"outlinewidth\":0,\"ticks\":\"\"}}}],\"carpet\":[{\"aaxis\":{\"endlinecolor\":\"#2a3f5f\",\"gridcolor\":\"white\",\"linecolor\":\"white\",\"minorgridcolor\":\"white\",\"startlinecolor\":\"#2a3f5f\"},\"baxis\":{\"endlinecolor\":\"#2a3f5f\",\"gridcolor\":\"white\",\"linecolor\":\"white\",\"minorgridcolor\":\"white\",\"startlinecolor\":\"#2a3f5f\"},\"type\":\"carpet\"}],\"table\":[{\"cells\":{\"fill\":{\"color\":\"#EBF0F8\"},\"line\":{\"color\":\"white\"}},\"header\":{\"fill\":{\"color\":\"#C8D4E3\"},\"line\":{\"color\":\"white\"}},\"type\":\"table\"}],\"barpolar\":[{\"marker\":{\"line\":{\"color\":\"#E5ECF6\",\"width\":0.5},\"pattern\":{\"fillmode\":\"overlay\",\"size\":10,\"solidity\":0.2}},\"type\":\"barpolar\"}],\"pie\":[{\"automargin\":true,\"type\":\"pie\"}]},\"layout\":{\"autotypenumbers\":\"strict\",\"colorway\":[\"#636efa\",\"#EF553B\",\"#00cc96\",\"#ab63fa\",\"#FFA15A\",\"#19d3f3\",\"#FF6692\",\"#B6E880\",\"#FF97FF\",\"#FECB52\"],\"font\":{\"color\":\"#2a3f5f\"},\"hovermode\":\"closest\",\"hoverlabel\":{\"align\":\"left\"},\"paper_bgcolor\":\"white\",\"plot_bgcolor\":\"#E5ECF6\",\"polar\":{\"bgcolor\":\"#E5ECF6\",\"angularaxis\":{\"gridcolor\":\"white\",\"linecolor\":\"white\",\"ticks\":\"\"},\"radialaxis\":{\"gridcolor\":\"white\",\"linecolor\":\"white\",\"ticks\":\"\"}},\"ternary\":{\"bgcolor\":\"#E5ECF6\",\"aaxis\":{\"gridcolor\":\"white\",\"linecolor\":\"white\",\"ticks\":\"\"},\"baxis\":{\"gridcolor\":\"white\",\"linecolor\":\"white\",\"ticks\":\"\"},\"caxis\":{\"gridcolor\":\"white\",\"linecolor\":\"white\",\"ticks\":\"\"}},\"coloraxis\":{\"colorbar\":{\"outlinewidth\":0,\"ticks\":\"\"}},\"colorscale\":{\"sequential\":[[0.0,\"#0d0887\"],[0.1111111111111111,\"#46039f\"],[0.2222222222222222,\"#7201a8\"],[0.3333333333333333,\"#9c179e\"],[0.4444444444444444,\"#bd3786\"],[0.5555555555555556,\"#d8576b\"],[0.6666666666666666,\"#ed7953\"],[0.7777777777777778,\"#fb9f3a\"],[0.8888888888888888,\"#fdca26\"],[1.0,\"#f0f921\"]],\"sequentialminus\":[[0.0,\"#0d0887\"],[0.1111111111111111,\"#46039f\"],[0.2222222222222222,\"#7201a8\"],[0.3333333333333333,\"#9c179e\"],[0.4444444444444444,\"#bd3786\"],[0.5555555555555556,\"#d8576b\"],[0.6666666666666666,\"#ed7953\"],[0.7777777777777778,\"#fb9f3a\"],[0.8888888888888888,\"#fdca26\"],[1.0,\"#f0f921\"]],\"diverging\":[[0,\"#8e0152\"],[0.1,\"#c51b7d\"],[0.2,\"#de77ae\"],[0.3,\"#f1b6da\"],[0.4,\"#fde0ef\"],[0.5,\"#f7f7f7\"],[0.6,\"#e6f5d0\"],[0.7,\"#b8e186\"],[0.8,\"#7fbc41\"],[0.9,\"#4d9221\"],[1,\"#276419\"]]},\"xaxis\":{\"gridcolor\":\"white\",\"linecolor\":\"white\",\"ticks\":\"\",\"title\":{\"standoff\":15},\"zerolinecolor\":\"white\",\"automargin\":true,\"zerolinewidth\":2},\"yaxis\":{\"gridcolor\":\"white\",\"linecolor\":\"white\",\"ticks\":\"\",\"title\":{\"standoff\":15},\"zerolinecolor\":\"white\",\"automargin\":true,\"zerolinewidth\":2},\"scene\":{\"xaxis\":{\"backgroundcolor\":\"#E5ECF6\",\"gridcolor\":\"white\",\"linecolor\":\"white\",\"showbackground\":true,\"ticks\":\"\",\"zerolinecolor\":\"white\",\"gridwidth\":2},\"yaxis\":{\"backgroundcolor\":\"#E5ECF6\",\"gridcolor\":\"white\",\"linecolor\":\"white\",\"showbackground\":true,\"ticks\":\"\",\"zerolinecolor\":\"white\",\"gridwidth\":2},\"zaxis\":{\"backgroundcolor\":\"#E5ECF6\",\"gridcolor\":\"white\",\"linecolor\":\"white\",\"showbackground\":true,\"ticks\":\"\",\"zerolinecolor\":\"white\",\"gridwidth\":2}},\"shapedefaults\":{\"line\":{\"color\":\"#2a3f5f\"}},\"annotationdefaults\":{\"arrowcolor\":\"#2a3f5f\",\"arrowhead\":0,\"arrowwidth\":1},\"geo\":{\"bgcolor\":\"white\",\"landcolor\":\"#E5ECF6\",\"subunitcolor\":\"white\",\"showland\":true,\"showlakes\":true,\"lakecolor\":\"white\"},\"title\":{\"x\":0.05},\"mapbox\":{\"style\":\"light\"}}},\"xaxis\":{\"anchor\":\"y\",\"domain\":[0.0,0.45]},\"yaxis\":{\"anchor\":\"x\",\"domain\":[0.0,1.0]},\"xaxis2\":{\"anchor\":\"y2\",\"domain\":[0.55,1.0]},\"yaxis2\":{\"anchor\":\"x2\",\"domain\":[0.0,1.0]},\"annotations\":[{\"font\":{\"size\":16},\"showarrow\":false,\"text\":\"Test Loss\",\"x\":0.225,\"xanchor\":\"center\",\"xref\":\"paper\",\"y\":1.0,\"yanchor\":\"bottom\",\"yref\":\"paper\"},{\"font\":{\"size\":16},\"showarrow\":false,\"text\":\"Computation Time\",\"x\":0.775,\"xanchor\":\"center\",\"xref\":\"paper\",\"y\":1.0,\"yanchor\":\"bottom\",\"yref\":\"paper\"}],\"legend\":{\"orientation\":\"h\"},\"title\":{\"text\":\"Test loss and Computation time for different fractions of training dataset\"},\"height\":480,\"width\":900},                        {\"responsive\": true}                    ).then(function(){\n",
              "                            \n",
              "var gd = document.getElementById('ad01acab-7af6-4a23-b58a-b3012cd01731');\n",
              "var x = new MutationObserver(function (mutations, observer) {{\n",
              "        var display = window.getComputedStyle(gd).display;\n",
              "        if (!display || display === 'none') {{\n",
              "            console.log([gd, 'removed!']);\n",
              "            Plotly.purge(gd);\n",
              "            observer.disconnect();\n",
              "        }}\n",
              "}});\n",
              "\n",
              "// Listen for the removal of the full notebook cells\n",
              "var notebookContainer = gd.closest('#notebook-container');\n",
              "if (notebookContainer) {{\n",
              "    x.observe(notebookContainer, {childList: true});\n",
              "}}\n",
              "\n",
              "// Listen for the clearing of the current output cell\n",
              "var outputEl = gd.closest('.output');\n",
              "if (outputEl) {{\n",
              "    x.observe(outputEl, {childList: true});\n",
              "}}\n",
              "\n",
              "                        })                };                            </script>        </div>\n",
              "</body>\n",
              "</html>"
            ]
          },
          "metadata": {}
        }
      ],
      "source": [
        "# Visualize different configuration spaces (q)\n",
        "fig = py.make_subplots(\n",
        "    rows=1, cols=2, subplot_titles=[\"Test Loss\", \"Computation Time\"],\n",
        ")\n",
        "\n",
        "trace_1 = go.Bar(\n",
        "    name=f\"Test Loss\",\n",
        "    y=loss_time_tracker[\"loss\"],\n",
        "    x=[0.2,0.4,0.6,0.8,1],\n",
        "    orientation=\"v\",\n",
        ")\n",
        "trace_2 = go.Bar(\n",
        "    name=f\"Computation Time\",\n",
        "    y=loss_time_tracker[\"time\"],\n",
        "    x=[0.2,0.4,0.6,0.8,1],\n",
        "    orientation=\"v\",\n",
        ")\n",
        "\n",
        "fig.append_trace(trace_1, 1, 1)\n",
        "fig.append_trace(trace_2, 1, 2)\n",
        "\n",
        "fig[\"layout\"].update(\n",
        "    title=\"Test loss and Computation time for different fractions of training dataset\",\n",
        "    legend_orientation=\"h\",\n",
        "    height=480,\n",
        "    width=900,\n",
        ")\n",
        "fig"
      ]
    }
  ],
  "metadata": {
    "kernelspec": {
      "display_name": "Python 3",
      "name": "python3"
    },
    "language_info": {
      "codemirror_mode": {
        "name": "ipython",
        "version": 3
      },
      "file_extension": ".py",
      "mimetype": "text/x-python",
      "name": "python",
      "nbconvert_exporter": "python",
      "pygments_lexer": "ipython3",
      "version": "3.8.5"
    },
    "toc": {
      "base_numbering": 1,
      "nav_menu": {},
      "number_sections": false,
      "sideBar": true,
      "skip_h1_title": false,
      "title_cell": "Table of Contents",
      "title_sidebar": "Contents",
      "toc_cell": true,
      "toc_position": {
        "height": "calc(100% - 180px)",
        "left": "10px",
        "top": "150px",
        "width": "307.2px"
      },
      "toc_section_display": true,
      "toc_window_display": false
    },
    "colab": {
      "provenance": [],
      "machine_shape": "hm",
      "gpuType": "A100"
    },
    "accelerator": "GPU"
  },
  "nbformat": 4,
  "nbformat_minor": 0
}